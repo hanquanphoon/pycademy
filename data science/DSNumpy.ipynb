{
 "cells": [
  {
   "cell_type": "markdown",
   "metadata": {},
   "source": [
    "Numpy is a Python package useful for numerical analysis. The central object in Numpy is the Numpy array. A Numpy array is like a Python list that can store many data without assigning individual names to the data points, but also more powerful and comes with more convenient functionalities. For example, while adding two Python lists means concatenating them, adding two Numpy arrays, which must be the same length, means adding the elements on the same position:"
   ]
  },
  {
   "cell_type": "code",
   "execution_count": 2,
   "metadata": {},
   "outputs": [
    {
     "data": {
      "text/plain": [
       "array([ 3, 11,  7, 11, 15])"
      ]
     },
     "execution_count": 2,
     "metadata": {},
     "output_type": "execute_result"
    }
   ],
   "source": [
    "import numpy as np\n",
    "import scipy\n",
    "\n",
    "a = np.array([1,3,3,5,6])\n",
    "b = np.array([2,8,4,6,9])\n",
    "a+b"
   ]
  },
  {
   "cell_type": "markdown",
   "metadata": {},
   "source": [
    "Numpy has an arange command that is similar to the Python range, but with the step size capable of taking a non-integer value:"
   ]
  },
  {
   "cell_type": "code",
   "execution_count": 5,
   "metadata": {},
   "outputs": [
    {
     "data": {
      "text/plain": [
       "array([ 0.        ,  0.09983342,  0.19866933,  0.29552021,  0.38941834,\n",
       "        0.47942554,  0.56464247,  0.64421769,  0.71735609,  0.78332691,\n",
       "        0.84147098,  0.89120736,  0.93203909,  0.96355819,  0.98544973,\n",
       "        0.99749499,  0.9995736 ,  0.99166481,  0.97384763,  0.94630009,\n",
       "        0.90929743,  0.86320937,  0.8084964 ,  0.74570521,  0.67546318,\n",
       "        0.59847214,  0.51550137,  0.42737988,  0.33498815,  0.23924933,\n",
       "        0.14112001,  0.04158066, -0.05837414, -0.15774569, -0.2555411 ,\n",
       "       -0.35078323, -0.44252044, -0.52983614, -0.61185789, -0.68776616,\n",
       "       -0.7568025 , -0.81827711, -0.87157577, -0.91616594, -0.95160207,\n",
       "       -0.97753012, -0.993691  , -0.99992326, -0.99616461, -0.98245261,\n",
       "       -0.95892427, -0.92581468, -0.88345466, -0.83226744, -0.77276449,\n",
       "       -0.70554033, -0.63126664, -0.55068554, -0.46460218, -0.37387666,\n",
       "       -0.2794155 , -0.1821625 , -0.0830894 ,  0.0168139 ,  0.1165492 ,\n",
       "        0.21511999,  0.31154136,  0.40484992,  0.49411335,  0.57843976,\n",
       "        0.6569866 ,  0.72896904,  0.79366786,  0.85043662,  0.8987081 ,\n",
       "        0.93799998,  0.96791967,  0.98816823,  0.99854335,  0.99894134,\n",
       "        0.98935825,  0.96988981,  0.94073056,  0.90217183,  0.85459891,\n",
       "        0.79848711,  0.7343971 ,  0.66296923,  0.58491719,  0.50102086,\n",
       "        0.41211849,  0.31909836,  0.22288991,  0.12445442,  0.02477543,\n",
       "       -0.07515112, -0.17432678, -0.27176063, -0.36647913, -0.45753589])"
      ]
     },
     "execution_count": 5,
     "metadata": {},
     "output_type": "execute_result"
    }
   ],
   "source": [
    "x = np.arange(0,10,0.1)\n",
    "y = np.sin(x)\n",
    "y"
   ]
  },
  {
   "cell_type": "markdown",
   "metadata": {},
   "source": [
    "You also saw, almost any function in the default Python Math package has a Numpy equivalent. The random submodule in Numpy also replaces the random package. It can also draw sample random numbers from other types of distribution, such as a normal distribution with any mean and standard deviation:"
   ]
  },
  {
   "cell_type": "code",
   "execution_count": 6,
   "metadata": {},
   "outputs": [
    {
     "data": {
      "text/plain": [
       "array([ 6.32661061,  9.22603113, 10.20753968, 15.2987159 , 11.71995738,\n",
       "       10.08237665,  1.2730159 ,  8.29468201, 11.3348266 , 13.57250763,\n",
       "       18.12756801,  8.8344966 ,  9.65816501, 11.62704738, 10.7873862 ,\n",
       "        6.40608349, 12.92403389, 12.8169504 ,  5.73724094, 10.63830116,\n",
       "       10.06882997,  5.28577132,  8.20066165,  7.30547912,  9.52376403,\n",
       "        5.25350411, 11.72785505, 11.56155754,  3.71727915,  5.32415184,\n",
       "        9.58428154, 15.59374174,  7.67125332,  6.77004703, 12.82008549,\n",
       "       19.20255035, 11.20658359,  4.30911651, 11.59940019,  8.38598113,\n",
       "       15.62626207, 16.21742913, 14.6361134 ,  3.56297859, 10.30487784,\n",
       "       10.01509941, 11.32627059,  3.93477757,  5.51552932,  8.54985805,\n",
       "       14.33844832, -1.3161907 ,  9.42233148,  5.56752074, 15.05572506,\n",
       "       12.75809277, 12.30482692, 19.49862948,  7.1261972 , 13.46588559,\n",
       "        7.5569572 , 12.42580985,  4.88674583,  5.51461038, 11.48708075,\n",
       "        4.75068464,  9.34265276,  7.40918616, 15.29790835, 11.00395632,\n",
       "       12.73847078, 17.27503927, 13.04143964,  6.90594183, 12.98572122,\n",
       "        8.16459026, 12.84091725,  2.33109176,  5.27500489, 14.47274064,\n",
       "       10.00703479, 15.87874642, 12.53722216,  7.81717504,  6.2653485 ,\n",
       "        0.56316227, 14.82108852,  4.63833254, 18.09689978,  7.01486191,\n",
       "       14.96880504, 10.16569254, 14.27132643, 14.16719414, 17.23700296,\n",
       "        6.84473125, 16.02447675,  6.44359861,  8.84758913, 12.38266841])"
      ]
     },
     "execution_count": 6,
     "metadata": {},
     "output_type": "execute_result"
    }
   ],
   "source": [
    "z = np.random.normal(10,5,100)\n",
    "z"
   ]
  },
  {
   "cell_type": "markdown",
   "metadata": {},
   "source": [
    "Numpy also has a lot of built-in statistical functions widely used in data analysis, such as finding the mean and median:"
   ]
  },
  {
   "cell_type": "code",
   "execution_count": 8,
   "metadata": {},
   "outputs": [
    {
     "name": "stdout",
     "output_type": "stream",
     "text": [
      "10.126156010407772\n",
      "10.124034592723532\n"
     ]
    }
   ],
   "source": [
    "print(np.mean(z))\n",
    "print(np.median(z))"
   ]
  },
  {
   "cell_type": "markdown",
   "metadata": {},
   "source": [
    "Standard deviation:"
   ]
  },
  {
   "cell_type": "code",
   "execution_count": 11,
   "metadata": {},
   "outputs": [
    {
     "data": {
      "text/plain": [
       "5.280775517006143"
      ]
     },
     "execution_count": 11,
     "metadata": {},
     "output_type": "execute_result"
    }
   ],
   "source": [
    "np.std(a)"
   ]
  },
  {
   "cell_type": "markdown",
   "metadata": {},
   "source": [
    "Percentile:"
   ]
  },
  {
   "cell_type": "code",
   "execution_count": 12,
   "metadata": {},
   "outputs": [
    {
     "data": {
      "text/plain": [
       "9.457512704066193"
      ]
     },
     "execution_count": 12,
     "metadata": {},
     "output_type": "execute_result"
    }
   ],
   "source": [
    "np.percentile(a,90)"
   ]
  },
  {
   "cell_type": "markdown",
   "metadata": {},
   "source": [
    "A sister package to Numpy, Scipy, provides more functionalities, notably the Pearson's coefficient of correlation of two Numpy arrays:"
   ]
  },
  {
   "cell_type": "code",
   "execution_count": 8,
   "metadata": {},
   "outputs": [],
   "source": [
    "a = np.array([1,3,3,5,6])\n",
    "b = np.array([2,8,4,6,9])\n",
    "\n",
    "from scipy import stats\n",
    "stats.pearsonr(a,b)"
   ]
  },
  {
   "cell_type": "markdown",
   "metadata": {},
   "source": [
    "Read the documentation for more Numpy and Scipy functionalities, especially if you are a math and science enthusiast. Chances are there will be a Numpy or Scipy function already made for your intended use."
   ]
  }
 ],
 "metadata": {
  "kernelspec": {
   "display_name": "Python 3",
   "language": "python",
   "name": "python3"
  },
  "language_info": {
   "codemirror_mode": {
    "name": "ipython",
    "version": 3
   },
   "file_extension": ".py",
   "mimetype": "text/x-python",
   "name": "python",
   "nbconvert_exporter": "python",
   "pygments_lexer": "ipython3",
   "version": "3.7.6"
  }
 },
 "nbformat": 4,
 "nbformat_minor": 4
}
