{
 "cells": [
  {
   "cell_type": "markdown",
   "metadata": {},
   "source": [
    "Data usually means a lot of numbers. In Python, the simplest way to store these numbers is to use its default list. Practice a few of the commonly used methods relating to lists."
   ]
  },
  {
   "cell_type": "code",
   "execution_count": 2,
   "metadata": {},
   "outputs": [
    {
     "name": "stdout",
     "output_type": "stream",
     "text": [
      "2\n",
      "43\n",
      "[3, 9, 5, 7, 2, 0, 9]\n"
     ]
    }
   ],
   "source": [
    "a = [3,9,5,4,7,2,4,9]\n",
    "print(a[5])\n",
    "print(sum(a))\n",
    "a[6] = 0\n",
    "a.pop(3)\n",
    "print(a)"
   ]
  },
  {
   "cell_type": "markdown",
   "metadata": {},
   "source": [
    "Practice how to create a list automatically, instead of manually, by for example creating a list of the first 20 perfect square numbers."
   ]
  },
  {
   "cell_type": "code",
   "execution_count": 5,
   "metadata": {},
   "outputs": [
    {
     "name": "stdout",
     "output_type": "stream",
     "text": [
      "[0, 1, 4, 9, 16, 25, 36, 49, 64, 81, 100, 121, 144, 169, 196, 225, 256, 289, 324, 361]\n"
     ]
    }
   ],
   "source": [
    "ps = []\n",
    "for i in range(20):\n",
    "    j = i**2\n",
    "    ps.append(j)\n",
    "print(ps)"
   ]
  },
  {
   "cell_type": "markdown",
   "metadata": {},
   "source": [
    "A much more concise way of doing the previous problem is through a shorthand called list comprehension. Note the code below that produces the exact same result as above:"
   ]
  },
  {
   "cell_type": "code",
   "execution_count": 6,
   "metadata": {},
   "outputs": [
    {
     "name": "stdout",
     "output_type": "stream",
     "text": [
      "[0, 1, 4, 9, 16, 25, 36, 49, 64, 81, 100, 121, 144, 169, 196, 225, 256, 289, 324, 361]\n"
     ]
    }
   ],
   "source": [
    "ps1 = [i**2 for i in range(20)]\n",
    "print(ps1)"
   ]
  },
  {
   "cell_type": "markdown",
   "metadata": {},
   "source": [
    "<p> If you are working on a bigger project in which you need to create many lists used in some intermediate steps, list comprehension is extremely useful. Reducing a frequently used procedure from four lines to one line will prove to be sanity preserving for both the code writer and reader. </p>\n",
    "<p> You can combine different built-in functions in Python to create other functions used in data science, for example for calculating the mean of a list of numbers: </p>"
   ]
  },
  {
   "cell_type": "code",
   "execution_count": 3,
   "metadata": {},
   "outputs": [
    {
     "name": "stdout",
     "output_type": "stream",
     "text": [
      "5.375\n"
     ]
    }
   ],
   "source": [
    "a = [3,9,5,4,7,2,4,9]\n",
    "avg = sum(a)/len(a)\n",
    "print(avg)"
   ]
  },
  {
   "cell_type": "markdown",
   "metadata": {},
   "source": [
    "One important skill you should have is to know how to write codes to do something to all elements in a list, or loop over a list. For example to find the value of 9 factorial:"
   ]
  },
  {
   "cell_type": "code",
   "execution_count": 6,
   "metadata": {},
   "outputs": [
    {
     "name": "stdout",
     "output_type": "stream",
     "text": [
      "362880\n"
     ]
    }
   ],
   "source": [
    "prod = 1\n",
    "for i in range(1,10):\n",
    "    prod = prod*i\n",
    "print(prod)"
   ]
  },
  {
   "cell_type": "markdown",
   "metadata": {},
   "source": [
    "Or to have conditional in a loop over a list, for example printing the odd numbers in the list:"
   ]
  },
  {
   "cell_type": "code",
   "execution_count": 4,
   "metadata": {},
   "outputs": [
    {
     "name": "stdout",
     "output_type": "stream",
     "text": [
      "3\n",
      "9\n",
      "5\n",
      "7\n",
      "9\n"
     ]
    }
   ],
   "source": [
    "a = [3,9,5,4,7,2,4,9]  \n",
    "for i in a:\n",
    "    if i%2 != 0:\n",
    "        print(i)"
   ]
  },
  {
   "cell_type": "markdown",
   "metadata": {},
   "source": [
    "Read the documentation for more list functionalities, and try them yourself."
   ]
  },
  {
   "cell_type": "markdown",
   "metadata": {},
   "source": [
    "Exercise: <br>\n",
    "Create a list of first 10 terms in an arithmetic progression with first term = 5 and common difference 3. <br>\n",
    "Create a list of first 10 terms in an geometric progression with first term = 5 and common ratio 3. <br>\n",
    "Write a program that checks if 54798 is a prime number. <br>\n",
    "In the list <code>a</code> above, remove all elements that are multiples of 3. <br>"
   ]
  },
  {
   "cell_type": "markdown",
   "metadata": {},
   "source": [
    "(The following exercise requires you to search for additional resources on the internet or elsewhere) <br>\n",
    "Read up on the Python object of dictionary and other functions of list. Write a program that prints a dictionary, whose keys are unique entries in the list <code>a</code> above, and values the number of occurences of that entry in the list."
   ]
  }
 ],
 "metadata": {
  "kernelspec": {
   "display_name": "Python 3",
   "language": "python",
   "name": "python3"
  },
  "language_info": {
   "codemirror_mode": {
    "name": "ipython",
    "version": 3
   },
   "file_extension": ".py",
   "mimetype": "text/x-python",
   "name": "python",
   "nbconvert_exporter": "python",
   "pygments_lexer": "ipython3",
   "version": "3.7.5"
  }
 },
 "nbformat": 4,
 "nbformat_minor": 4
}
