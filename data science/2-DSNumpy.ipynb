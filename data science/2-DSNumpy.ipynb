{
 "cells": [
  {
   "cell_type": "markdown",
   "metadata": {},
   "source": [
    "Numpy is a Python package useful for numerical analysis. The central object in Numpy is the Numpy array. A Numpy array is like a Python list that can store many data without assigning individual names to the data points, but also more powerful and comes with more convenient functionalities. For example, while adding two Python lists means concatenating them, adding two Numpy arrays, which must be the same length, means adding the elements on the same position:"
   ]
  },
  {
   "cell_type": "code",
   "execution_count": 1,
   "metadata": {},
   "outputs": [
    {
     "data": {
      "text/plain": [
       "array([ 3, 11,  7, 11, 15])"
      ]
     },
     "execution_count": 1,
     "metadata": {},
     "output_type": "execute_result"
    }
   ],
   "source": [
    "import numpy as np\n",
    "import scipy\n",
    "\n",
    "a = np.array([1,3,3,5,6])\n",
    "b = np.array([2,8,4,6,9])\n",
    "a+b"
   ]
  },
  {
   "cell_type": "markdown",
   "metadata": {},
   "source": [
    "The random submodule in Numpy also replaces the random package. It can also draw sample random numbers from other types of distribution, such as a normal distribution with any mean and standard deviation:"
   ]
  },
  {
   "cell_type": "code",
   "execution_count": 6,
   "metadata": {},
   "outputs": [
    {
     "data": {
      "text/plain": [
       "array([ 6.32661061,  9.22603113, 10.20753968, 15.2987159 , 11.71995738,\n",
       "       10.08237665,  1.2730159 ,  8.29468201, 11.3348266 , 13.57250763,\n",
       "       18.12756801,  8.8344966 ,  9.65816501, 11.62704738, 10.7873862 ,\n",
       "        6.40608349, 12.92403389, 12.8169504 ,  5.73724094, 10.63830116,\n",
       "       10.06882997,  5.28577132,  8.20066165,  7.30547912,  9.52376403,\n",
       "        5.25350411, 11.72785505, 11.56155754,  3.71727915,  5.32415184,\n",
       "        9.58428154, 15.59374174,  7.67125332,  6.77004703, 12.82008549,\n",
       "       19.20255035, 11.20658359,  4.30911651, 11.59940019,  8.38598113,\n",
       "       15.62626207, 16.21742913, 14.6361134 ,  3.56297859, 10.30487784,\n",
       "       10.01509941, 11.32627059,  3.93477757,  5.51552932,  8.54985805,\n",
       "       14.33844832, -1.3161907 ,  9.42233148,  5.56752074, 15.05572506,\n",
       "       12.75809277, 12.30482692, 19.49862948,  7.1261972 , 13.46588559,\n",
       "        7.5569572 , 12.42580985,  4.88674583,  5.51461038, 11.48708075,\n",
       "        4.75068464,  9.34265276,  7.40918616, 15.29790835, 11.00395632,\n",
       "       12.73847078, 17.27503927, 13.04143964,  6.90594183, 12.98572122,\n",
       "        8.16459026, 12.84091725,  2.33109176,  5.27500489, 14.47274064,\n",
       "       10.00703479, 15.87874642, 12.53722216,  7.81717504,  6.2653485 ,\n",
       "        0.56316227, 14.82108852,  4.63833254, 18.09689978,  7.01486191,\n",
       "       14.96880504, 10.16569254, 14.27132643, 14.16719414, 17.23700296,\n",
       "        6.84473125, 16.02447675,  6.44359861,  8.84758913, 12.38266841])"
      ]
     },
     "execution_count": 6,
     "metadata": {},
     "output_type": "execute_result"
    }
   ],
   "source": [
    "z = np.random.normal(10,5,100)\n",
    "z"
   ]
  },
  {
   "cell_type": "markdown",
   "metadata": {},
   "source": [
    "Numpy also has a lot of built-in statistical functions widely used in data analysis, such as finding the mean and median:"
   ]
  },
  {
   "cell_type": "code",
   "execution_count": 8,
   "metadata": {},
   "outputs": [
    {
     "name": "stdout",
     "output_type": "stream",
     "text": [
      "10.126156010407772\n",
      "10.124034592723532\n"
     ]
    }
   ],
   "source": [
    "print(np.mean(z))\n",
    "print(np.median(z))"
   ]
  },
  {
   "cell_type": "markdown",
   "metadata": {},
   "source": [
    "Standard deviation:"
   ]
  },
  {
   "cell_type": "code",
   "execution_count": 11,
   "metadata": {},
   "outputs": [
    {
     "data": {
      "text/plain": [
       "5.280775517006143"
      ]
     },
     "execution_count": 11,
     "metadata": {},
     "output_type": "execute_result"
    }
   ],
   "source": [
    "np.std(a)"
   ]
  },
  {
   "cell_type": "markdown",
   "metadata": {},
   "source": [
    "Percentile:"
   ]
  },
  {
   "cell_type": "code",
   "execution_count": 12,
   "metadata": {},
   "outputs": [
    {
     "data": {
      "text/plain": [
       "9.457512704066193"
      ]
     },
     "execution_count": 12,
     "metadata": {},
     "output_type": "execute_result"
    }
   ],
   "source": [
    "np.percentile(a,90)"
   ]
  },
  {
   "cell_type": "markdown",
   "metadata": {},
   "source": [
    "A sister package to Numpy, Scipy, provides more functionalities, notably the Pearson's coefficient of correlation of two Numpy arrays:"
   ]
  },
  {
   "cell_type": "code",
   "execution_count": 8,
   "metadata": {},
   "outputs": [],
   "source": [
    "a = np.array([1,3,3,5,6])\n",
    "b = np.array([2,8,4,6,9])\n",
    "\n",
    "from scipy import stats\n",
    "stats.pearsonr(a,b)"
   ]
  },
  {
   "cell_type": "markdown",
   "metadata": {},
   "source": [
    "Numpy regularly uses arrays within arrays, or 2-dimensional arrays. 2-dimensional arrays must be rectangular, and are used to represent matrices in Mathematics. There are two ways of indexing entries in a Numpy array. The first number is the index of row, and the second the index of column:"
   ]
  },
  {
   "cell_type": "code",
   "execution_count": 6,
   "metadata": {},
   "outputs": [
    {
     "name": "stdout",
     "output_type": "stream",
     "text": [
      "2\n",
      "2\n"
     ]
    }
   ],
   "source": [
    "A = np.array([[1,2],\n",
    "            [3,4]])\n",
    "print(A[0,1])\n",
    "print(A[0][1])"
   ]
  },
  {
   "cell_type": "markdown",
   "metadata": {},
   "source": [
    "As matrices are represented by Numpy arrays, there are many Numpy functions that relate to matrices. For example matrix inverse:"
   ]
  },
  {
   "cell_type": "code",
   "execution_count": 7,
   "metadata": {},
   "outputs": [
    {
     "data": {
      "text/plain": [
       "array([[-2. ,  1. ],\n",
       "       [ 1.5, -0.5]])"
      ]
     },
     "execution_count": 7,
     "metadata": {},
     "output_type": "execute_result"
    }
   ],
   "source": [
    "np.linalg.inv(A)"
   ]
  },
  {
   "cell_type": "markdown",
   "metadata": {},
   "source": [
    "And matrix transpose:"
   ]
  },
  {
   "cell_type": "code",
   "execution_count": null,
   "metadata": {},
   "outputs": [],
   "source": [
    "A.T"
   ]
  },
  {
   "cell_type": "markdown",
   "metadata": {},
   "source": [
    "Read the documentation for more Numpy and Scipy functionalities, especially if you are a math and science enthusiast. Chances are there will be a Numpy or Scipy function already made for your intended use."
   ]
  },
  {
   "cell_type": "markdown",
   "metadata": {},
   "source": [
    "Exercise: <br>\n",
    "Either write a program that counts the number of elements in a Numpy array that are positive, or search for an efficient way to do that in Numpy. <br>\n",
    "Search the Numpy documentation for the function that computes the eigenvalues of the matrix A above. <br>\n",
    "Search the Numpy documentation for the function that solves a system of linear equations."
   ]
  }
 ],
 "metadata": {
  "kernelspec": {
   "display_name": "Python 3",
   "language": "python",
   "name": "python3"
  },
  "language_info": {
   "codemirror_mode": {
    "name": "ipython",
    "version": 3
   },
   "file_extension": ".py",
   "mimetype": "text/x-python",
   "name": "python",
   "nbconvert_exporter": "python",
   "pygments_lexer": "ipython3",
   "version": "3.7.5"
  }
 },
 "nbformat": 4,
 "nbformat_minor": 4
}
