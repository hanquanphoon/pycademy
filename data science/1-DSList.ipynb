{
 "cells": [
  {
   "cell_type": "markdown",
   "metadata": {},
   "source": [
    "Data usually means a lot of numbers. In Python, the simplest way to store these numbers is to use its default list. Practice a few of the commonly used methods relating to lists."
   ]
  },
  {
   "cell_type": "markdown",
   "metadata": {},
   "source": [
    "Exercise <br>\n",
    "<code>a = [3,9,5,4,7,2,4,9,4]</code>. Predict the output of the following cells before running."
   ]
  },
  {
   "cell_type": "code",
   "execution_count": null,
   "metadata": {},
   "outputs": [],
   "source": [
    "print(a[5])"
   ]
  },
  {
   "cell_type": "code",
   "execution_count": null,
   "metadata": {},
   "outputs": [],
   "source": [
    "print(sum(a))"
   ]
  },
  {
   "cell_type": "code",
   "execution_count": null,
   "metadata": {},
   "outputs": [],
   "source": [
    "a[6] = 0\n",
    "print(a)"
   ]
  },
  {
   "cell_type": "code",
   "execution_count": null,
   "metadata": {},
   "outputs": [],
   "source": [
    "a.pop(3)\n",
    "print(a)"
   ]
  },
  {
   "cell_type": "markdown",
   "metadata": {},
   "source": [
    "Use the <code>dir</code> function to see a list of functions that can be used on a list. Can you guess what each of them is for?"
   ]
  },
  {
   "cell_type": "code",
   "execution_count": null,
   "metadata": {},
   "outputs": [],
   "source": [
    "dir(a)"
   ]
  },
  {
   "cell_type": "markdown",
   "metadata": {},
   "source": [
    "Exercise <br>\n",
    "Print an element in a list if it is an even number. <br>\n",
    "Write a function that returns the mean of a function. <br>\n",
    "Remove elements in a list if they are not an int or float. <br>\n",
    "The teacher has to select one girl of a group of three girls, Alice, Betty and Catherine, and one boy from group of four boys, Alex, Ben, Charlie and David, to participate in a dance contest. Write a program that prints out all the different possibilities of pairs."
   ]
  },
  {
   "cell_type": "code",
   "execution_count": 1,
   "metadata": {},
   "outputs": [
    {
     "name": "stdout",
     "output_type": "stream",
     "text": [
      "Alice Alex\n",
      "Alice Ben\n",
      "Alice Charlie\n",
      "Alice David\n",
      "Betty Alex\n",
      "Betty Ben\n",
      "Betty Charlie\n",
      "Betty David\n",
      "Catherine Alex\n",
      "Catherine Ben\n",
      "Catherine Charlie\n",
      "Catherine David\n"
     ]
    }
   ],
   "source": [
    "girls = ['Alice','Betty','Catherine']\n",
    "boys = ['Alex','Ben','Charlie','David']\n",
    "for girl in girls:\n",
    "    for boy in boys:\n",
    "        print(girl,boy)"
   ]
  },
  {
   "cell_type": "markdown",
   "metadata": {},
   "source": [
    "### List comprehension\n",
    "List is a very useful data type, and chances are in a real project you will create a lot of lists. And the standard procedure of creating a list can becomes tedious when you have to repeat it over and over again. To ease that, there is a shorthand called <i>list comprehension</i>."
   ]
  },
  {
   "cell_type": "markdown",
   "metadata": {},
   "source": [
    "For instance, the standard method of creating the list of first 20 perfect square numbers is as follows:"
   ]
  },
  {
   "cell_type": "code",
   "execution_count": 3,
   "metadata": {},
   "outputs": [
    {
     "name": "stdout",
     "output_type": "stream",
     "text": [
      "[0, 1, 4, 9, 16, 25, 36, 49, 64, 81, 100, 121, 144, 169, 196, 225, 256, 289, 324, 361]\n"
     ]
    }
   ],
   "source": [
    "perfsq = []\n",
    "for i in range(20):\n",
    "    perfsq.append(i**2)\n",
    "print(perfsq)"
   ]
  },
  {
   "cell_type": "markdown",
   "metadata": {},
   "source": [
    "The three lines of code can be shortened to one line:"
   ]
  },
  {
   "cell_type": "code",
   "execution_count": null,
   "metadata": {},
   "outputs": [],
   "source": [
    "perfsq1 = [i**2 for i in range(20)]\n",
    "print(perfsq1)"
   ]
  },
  {
   "cell_type": "markdown",
   "metadata": {},
   "source": [
    "It is also possible to incorporate an if statement inside:"
   ]
  },
  {
   "cell_type": "code",
   "execution_count": 5,
   "metadata": {},
   "outputs": [
    {
     "name": "stdout",
     "output_type": "stream",
     "text": [
      "[0, 4, 16, 36, 64, 100, 144, 196, 256, 324]\n"
     ]
    }
   ],
   "source": [
    "perfsq2 = [i**2 for i in range(20) if i%2==0]   # only wants even perfect squares\n",
    "print(perfsq2)"
   ]
  },
  {
   "cell_type": "markdown",
   "metadata": {},
   "source": [
    "Exercise <br>\n",
    "Rewrite the remove elements solution with list comprehension. <br>\n",
    "After removing the elements, multiply each element by 5. <br>"
   ]
  },
  {
   "cell_type": "markdown",
   "metadata": {},
   "source": [
    "Read the documentation for more list functionalities, and try them yourself."
   ]
  },
  {
   "cell_type": "markdown",
   "metadata": {},
   "source": [
    "Exercise: <br>\n",
    "Create a list of first 10 terms in an arithmetic progression with first term = 5 and common difference 3. <br>\n",
    "Create a list of first 10 terms of the Fibonacci sequence. <br>\n",
    "Write a program that checks if 54791 is a prime number. <br>\n",
    "In the list <code>a</code> above, remove all elements that are multiples of 3. <br>"
   ]
  },
  {
   "cell_type": "markdown",
   "metadata": {},
   "source": [
    "(The following exercise requires you to search for additional resources on the internet or elsewhere) <br>\n",
    "Read up on the Python object of dictionary and other functions of list. Write a program that prints a dictionary, whose keys are unique entries in a list, and values the number of occurences of that entry in the list."
   ]
  },
  {
   "cell_type": "code",
   "execution_count": null,
   "metadata": {},
   "outputs": [],
   "source": []
  }
 ],
 "metadata": {
  "kernelspec": {
   "display_name": "Python 3",
   "language": "python",
   "name": "python3"
  },
  "language_info": {
   "codemirror_mode": {
    "name": "ipython",
    "version": 3
   },
   "file_extension": ".py",
   "mimetype": "text/x-python",
   "name": "python",
   "nbconvert_exporter": "python",
   "pygments_lexer": "ipython3",
   "version": "3.7.5"
  }
 },
 "nbformat": 4,
 "nbformat_minor": 4
}
